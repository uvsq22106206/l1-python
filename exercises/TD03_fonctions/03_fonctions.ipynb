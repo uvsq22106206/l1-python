{
 "cells": [
  {
   "cell_type": "markdown",
   "metadata": {},
   "source": [
    "# Instructions Générales\n",
    "\n",
    "Ce TD est à faire en créant un fichier td3.py, que vous éditerez dans VSCode. \n",
    "Vous ne remplirez pas les cellules de ce notebook, mais vous les copierez au fur et à mesure \n",
    "dans votre fichier pour les compléter.\n",
    "\n",
    "Vous respecterez au mieux les règles d'écriture de code, en particulier chaque fonction devra avoir un **docstring** et des commentaires si nécessaire et les noms de variable seront illustratifs de leur usage. Vous utiliserez les outils de débogage (flake8, mypy, debugger, pythontutor ...) pour corriger vos bogues."
   ]
  },
  {
   "cell_type": "markdown",
   "metadata": {},
   "source": [
    "# Gestion du temps\n",
    "\n",
    "Nous allons créer un petit logiciel de gestion du temps et des dates.\n",
    "Pour cela nous aurons besoin de créer un certain nombre de fonctions utilitaires.\n",
    "\n",
    "Un temps a le format suivant: (jour: int, heure: int, minute: int, seconde: int).\n",
    "C'est un tuple de 4 éléments. Par exemple (4, 3, 13, 20) correspond à 4 jours, 3 heures, 13 minutes et 20 secondes.\n",
    "Si on a une variable temps = (4, 3, 13, 20), pour accéder au premier élément on fait temps\\[0\\] ce qui donne 4,\n",
    "le nombre de jours.\n",
    "\n",
    "Créer la fonction qui prend comme argument le temps et renvoie le nombre de seconde total correspondant à ce temps.\n",
    "Créer la fonction qui prend un nombre de secondes et renvoie le temps correspondant."
   ]
  },
  {
   "cell_type": "code",
   "execution_count": 14,
   "metadata": {},
   "outputs": [
    {
     "name": "stdout",
     "output_type": "stream",
     "text": [
      "<class 'tuple'>\n",
      "342094\n",
      "1 jours 3 heures 46 minutes 40 secondes\n"
     ]
    }
   ],
   "source": [
    "#temps[0] : jours, temps[1]: heures, temps[2]: minutes, temps[3]: secondes\n",
    "\n",
    "def tempsEnSeconde(temps):\n",
    "    \"\"\" Renvoie la valeur en seconde de temps donné comme jour, heure, minute, seconde.\"\"\"\n",
    "    seconde = temps[0]*86400 + temps[1]*3600 + temps[2]*60 + temps[3]\n",
    "    return seconde\n",
    "\n",
    "temps = (3,23,1,34)\n",
    "print(type(temps))\n",
    "print(tempsEnSeconde(temps))   \n",
    "\n",
    "def secondeEnTemps(seconde):\n",
    "    \"\"\"Renvoie le temps (jour, heure, minute, seconde) qui correspond au nombre de seconde passé en argument\"\"\"\n",
    "    temps = ((seconde // 86400),((seconde % 86400)//3600),(((seconde % 86400)%3600)//60),(((seconde % 86400)%3600)%60))\n",
    "    return temps\n",
    "    \n",
    "temps = secondeEnTemps(100000)\n",
    "print(temps[0],\"jours\",temps[1],\"heures\",temps[2],\"minutes\",temps[3],\"secondes\")"
   ]
  },
  {
   "cell_type": "markdown",
   "metadata": {},
   "source": [
    "Créer une fonction d'affichage d'un temps `afficheTemps`. Attention, les mots jour, heure et seconde doivent être au pluriel s'il y en a plusieurs. S'il y en a zéro, ils ne doivent pas apparaître.\n",
    "`print(message, end=\"\")` permet de ne pas sauter une ligne après un print. \n",
    "Vous pouvez écrire une fonction qui affiche un mot au pluriel ou non, appelée ensuite plusieurs fois par `afficheTemps` pour simplifier votre code.\n"
   ]
  },
  {
   "cell_type": "code",
   "execution_count": 11,
   "metadata": {},
   "outputs": [
    {
     "name": "stdout",
     "output_type": "stream",
     "text": [
      "1 jour\n",
      "14 minutes\n",
      "23 secondes\n"
     ]
    }
   ],
   "source": [
    "#fonction auxiliaire ici\n",
    "\n",
    "def pluriel(mot,a):\n",
    "    if a > 1 :\n",
    "        mot +=\"s\"\n",
    "    return mot\n",
    "\n",
    "\n",
    "mot = (\"jour\",\"heure\",\"minute\",\"seconde\")\n",
    "\n",
    "def afficheTemps(temps):\n",
    "    for i in range(len(temps)):\n",
    "        if temps[i] == 0:\n",
    "            print(end=\"\")\n",
    "        else:\n",
    "            print(str(temps[i])+\" \"+ pluriel(mot[i],temps[i]))\n",
    "\n",
    "\n",
    "    \n",
    "afficheTemps((1,0,14,23))    "
   ]
  },
  {
   "cell_type": "code",
   "execution_count": 10,
   "metadata": {},
   "outputs": [
    {
     "name": "stdout",
     "output_type": "stream",
     "text": [
      "  4 jours  1 minute  34 secondes"
     ]
    }
   ],
   "source": [
    "def affichePlu(val,mot):\n",
    "    if val!=0:\n",
    "        print(\" \",val, mot, end=\"\")\n",
    "    if val > 1:\n",
    "        print(\"s\", end=\"\")\n",
    "\n",
    "\n",
    "def afficheTemps(t):\n",
    "    affichePlu(t[0],\"jour\")\n",
    "    affichePlu(t[1],\"heure\")\n",
    "    affichePlu(t[2],\"minute\")\n",
    "    affichePlu(t[3],\"seconde\")\n",
    "\n",
    "t = (4,0,1,34)\n",
    "afficheTemps(t)"
   ]
  },
  {
   "cell_type": "markdown",
   "metadata": {},
   "source": [
    "Ecrire une fonction qui demande à l'utilisateur de rentrer un nombre de jours, d'heures, de minutes et\n",
    "de secondes et qui renvoie un temps. Attention, si l'entrée utilisateur n'est pas correcte, par exemple 80 minutes,\n",
    "afficher un message d'erreur et s'arrêter.\n",
    "\n",
    "(Optionnel) Au lieu d'arêter le programme, demander de rentrer une nouvelle valeur, tant que \n",
    "ce n'est pas une valeur correcte."
   ]
  },
  {
   "cell_type": "code",
   "execution_count": 16,
   "metadata": {},
   "outputs": [
    {
     "name": "stdout",
     "output_type": "stream",
     "text": [
      "  24 jours  13 heures  25 minutes  13 secondes"
     ]
    }
   ],
   "source": [
    "def demandeTemps():\n",
    "    j = int(input(\"Entrer un nombre de jour.\"))\n",
    "    h = int(input(\"Entrer un nombre d'heure.\"))\n",
    "    while h >= 24:\n",
    "        h = int(input(\"Ce nombre est trop grand entrer à nouveau un nombre d'heure.\"))\n",
    "    m = int(input(\"Entrer un nombre de minutes.\"))\n",
    "    while m >= 60:\n",
    "        m = int(input(\"Ce nombre est trop grand entrer à nouveau un nombre de minute.\"))\n",
    "    s = int(input(\"Entrer un nombre de secondes.\"))\n",
    "    while s >= 60:\n",
    "        s = int(input(\"Ce nombre est trop grand entrer à nouveau un nombre de seconde.\"))\n",
    "    return (j,h,m,s)\n",
    "\n",
    "\n",
    "afficheTemps(demandeTemps())"
   ]
  },
  {
   "cell_type": "markdown",
   "metadata": {},
   "source": [
    "On veut être capable d'additionner deux temps. Donner une fonction qui fait ce calcul,\n",
    "en utilisant les fonctions précédentes."
   ]
  },
  {
   "cell_type": "code",
   "execution_count": 17,
   "metadata": {},
   "outputs": [
    {
     "name": "stdout",
     "output_type": "stream",
     "text": [
      "  8 jours  2 heures  1 minute  26 secondes"
     ]
    }
   ],
   "source": [
    "def sommeTemps(temps1,temps2):\n",
    "    j = temps1[0] + temps2[0]\n",
    "    h = temps1[1] + temps2[1]\n",
    "    if h >= 24:\n",
    "        j += h//24\n",
    "        h = h%24\n",
    "    m = temps1[2] + temps2[2]\n",
    "    if m >= 60:\n",
    "        h += m//60\n",
    "        m = m%60\n",
    "    s = temps1[3] + temps2[3]\n",
    "    if s >= 60:\n",
    "        m += s//60\n",
    "        s = s%60\n",
    "    return (j,h,m,s)\n",
    "\n",
    "afficheTemps(sommeTemps((2,3,4,25),(5,22,57,1)))"
   ]
  },
  {
   "cell_type": "markdown",
   "metadata": {},
   "source": [
    "On veut maintenant calculer un pourcentage d'un temps. Par exemple, 20% de\n",
    "2 jours et 36 minutes correspond à 9 heures, 43 minutes et 12 secondes.\n",
    "\n",
    "Implémenter la fonction `proportionTemps` puis appeler cette fonction en échangeant l'ordre des arguments mais en les nommant."
   ]
  },
  {
   "cell_type": "code",
   "execution_count": 15,
   "metadata": {},
   "outputs": [
    {
     "name": "stdout",
     "output_type": "stream",
     "text": [
      "  9.0 heures  43.0 minutes  12.0 secondes"
     ]
    }
   ],
   "source": [
    "def proportionTemps(temps,proportion):\n",
    "    return secondeEnTemps(tempsEnSeconde(temps)*proportion)\n",
    "\n",
    "afficheTemps(proportionTemps((2,0,36,0),0.2))\n",
    "#appeler la fonction en échangeant l'ordre des arguments"
   ]
  },
  {
   "cell_type": "markdown",
   "metadata": {},
   "source": [
    "On veut maintenant afficher un temps sous forme de date, en supposant \n",
    "que le temps 0 est le 1 janvier 1970 à 00:00:00.\n",
    "\n",
    "* Implémenter une fonction `tempsEnDate`qui donne la date sous la forme (année, jour, heure, minute, seconde).\n",
    "* Implémenter la fonction `afficheDate`qui affiche la date. \n",
    "* (Optionnel) Gérer également les mois."
   ]
  },
  {
   "cell_type": "code",
   "execution_count": 26,
   "metadata": {},
   "outputs": [
    {
     "name": "stdout",
     "output_type": "stream",
     "text": [
      "  11574 jours  1 heure  46 minutes  40 secondes15 septembre 2001 1:46:40\n"
     ]
    }
   ],
   "source": [
    "def tempsEnDate(temps):\n",
    "    a = (temps[0]//365)\n",
    "    j = temps[0]%365\n",
    "    return (a,j,temps[1],temps[2],temps[3])\n",
    "\n",
    "def afficheDate(date):\n",
    "    a = date[0] + 1970\n",
    "    if a == 0%4:\n",
    "        if date[1]<=31:\n",
    "            mois = \"janvier\"\n",
    "            jour = str(date[1])\n",
    "        elif date[1]<=59:\n",
    "            mois = \"février\"\n",
    "            jour = str(date[1]-31)\n",
    "        elif date[1]<=90:\n",
    "            mois = \"mars\"\n",
    "            jour = str(date[1]-59)\n",
    "        elif date[1]<=120:\n",
    "            mois = \"avril\"\n",
    "            jour = str(date[1]-90)\n",
    "        elif date[1]<=151:\n",
    "            mois = \"mai\"\n",
    "            jour = str(date[1]-120)\n",
    "        elif date[1]<=181:\n",
    "            mois = \"juin\"\n",
    "            jour = str(date[1]-151)\n",
    "        elif date[1]<=212:\n",
    "            mois = \"juillet\"\n",
    "            jour = str(date[1]-181)\n",
    "        elif date[1]<=243:\n",
    "            mois = \"août\"\n",
    "            jour = str(date[1]-212)\n",
    "        elif date[1]<=273:\n",
    "            mois = \"septembre\"\n",
    "            jour = str(date[1]-243)\n",
    "        elif date[1]<=304:\n",
    "            mois = \"octobre\"\n",
    "            jour = str(date[1]-273)\n",
    "        elif date[1]<=334:\n",
    "            mois = \"novembre\"\n",
    "            jour = str(date[1]-304)\n",
    "        elif date[1]<=365:\n",
    "            mois = \"décembre\"\n",
    "            jour = str(date[1]-334)\n",
    "    else:\n",
    "        if date[1]<=31:\n",
    "            mois = \"janvier\"\n",
    "            jour = str(date[1])\n",
    "        elif date[1]<=60:\n",
    "            mois = \"février\"\n",
    "            jour = str(date[1]-31)\n",
    "        elif date[1]<=91:\n",
    "            mois = \"mars\"\n",
    "            jour = str(date[1]-60)\n",
    "        elif date[1]<=121:\n",
    "            mois = \"avril\"\n",
    "            jour = str(date[1]-91)\n",
    "        elif date[1]<=152:\n",
    "            mois = \"mai\"\n",
    "            jour = str(date[1]-121)\n",
    "        elif date[1]<=182:\n",
    "            mois = \"juin\"\n",
    "            jour = str(date[1]-152)\n",
    "        elif date[1]<=213:\n",
    "            mois = \"juillet\"\n",
    "            jour = str(date[1]-182)\n",
    "        elif date[1]<=244:\n",
    "            mois = \"août\"\n",
    "            jour = str(date[1]-213)\n",
    "        elif date[1]<=274:\n",
    "            mois = \"septembre\"\n",
    "            jour = str(date[1]-244)\n",
    "        elif date[1]<=305:\n",
    "            mois = \"octobre\"\n",
    "            jour = str(date[1]-274)\n",
    "        elif date[1]<=335:\n",
    "            mois = \"novembre\"\n",
    "            jour = str(date[1]-305)\n",
    "        elif date[1]<=366:\n",
    "            mois = \"décembre\"\n",
    "            jour = str(date[1]-335)\n",
    "    \n",
    "    print(jour+\" \"+mois+\" \"+str(a)+\" \"+str(date[2])+\":\"+str(date[3])+\":\"+str(date[4]))\n",
    "\n",
    "    \n",
    "temps = secondeEnTemps(1000000000)\n",
    "afficheTemps(temps)\n",
    "\n",
    "afficheDate(tempsEnDate(temps))\n"
   ]
  },
  {
   "cell_type": "markdown",
   "metadata": {},
   "source": [
    "Il existe des fonctions dans la librairie `time` pour la gestion du temps. En particulier, il existe\n",
    "une fonction `time` qui donne le temps écoulé depuis 1970 en secondes. \n",
    "La trouver avec la [documentation python](https://docs.python.org/fr/3/library/time.html#module-time) et la tester en utilisant `afficheDate`. \n",
    "Tester de la même manière la fonction `time.gmtime` qui réalise une tâche similaire à `tempsEnDate`.\n",
    "Que constatez vous ?"
   ]
  },
  {
   "cell_type": "code",
   "execution_count": null,
   "metadata": {},
   "outputs": [],
   "source": [
    "#tester ici les fonctions de la librairie time"
   ]
  },
  {
   "cell_type": "markdown",
   "metadata": {},
   "source": [
    "Attention, tous les 4 ans les années sont bisextiles (un jour de plus) sauf les multiples de 100 qui ne sont pas des multiples de 400.\n",
    "Donner un code qui prend un nombre de jours et affiche toutes les années bisextiles depuis 1 janvier 2020 à 00:00:00 jusqu'à la fin de ces jours."
   ]
  },
  {
   "cell_type": "code",
   "execution_count": null,
   "metadata": {},
   "outputs": [],
   "source": [
    "def bisextile(jour):\n",
    "    pass\n",
    "        \n",
    "bisextile(20000)"
   ]
  },
  {
   "cell_type": "markdown",
   "metadata": {},
   "source": [
    "Implémenter une fonction `nombreBisextile` qui calcule le nombre d'années bisextiles pour un nombre de jour donnés pour corriger votre fonction de calcul de la date."
   ]
  },
  {
   "cell_type": "code",
   "execution_count": null,
   "metadata": {},
   "outputs": [],
   "source": [
    "def nombreBisextile(jour):\n",
    "    pass\n",
    "\n",
    "def tempsEnDateBisextile(temps):\n",
    "    pass\n",
    "   \n",
    "temps = secondeEnTemps(1000000000)\n",
    "afficheTemps(temps)\n",
    "afficheDate(tempsEnDateBisextile(temps))"
   ]
  },
  {
   "cell_type": "markdown",
   "metadata": {},
   "source": [
    "Ajouter des valeurs par défaut dans le code de `afficheDate` afin de pouvoir ommettre\n",
    "l'argument de ces fonctions. Dans ce cas là, on affichera la date actuelle en utilisant la fonction `time`."
   ]
  },
  {
   "cell_type": "markdown",
   "metadata": {},
   "source": [
    "On va maintenant inspecter notre code pour améliorer sa qualité:\n",
    "\n",
    "* Regarder tous les warnings donnés par flake8 et essayer de les régler.\n",
    "* Utiliser le debugger (F5) pour étudier le fonctionnement de votre fonction nombreBisextile.\n",
    "* Mettre les annotations de type des arguments et du retour de la fonction pour nombreBisextile et une autre fonction de votre choix. Vérifier avec mypy que tout fonctionne bien."
   ]
  },
  {
   "cell_type": "markdown",
   "metadata": {},
   "source": [
    "Donner une fonction qui vérifie la charge horaire d'un employé, donnée sous forme d'une liste de temps travaillé chaque semaine dans un mois. Il ne faut pas dépasser 48h par semaine et 140h par mois (qu'on considère ici de 4 semaines).\n",
    "\n",
    "(Optionnel) S'adapter à une liste qui peut contenir plusieurs mois."
   ]
  },
  {
   "cell_type": "code",
   "execution_count": null,
   "metadata": {},
   "outputs": [],
   "source": [
    "def verifie(liste_temps):\n",
    "    pass\n",
    "\n",
    "\n",
    "liste_temps = [[1,2,39,34],[0,1,9,4],[0,29,39,51],[0,31,13,46]]\n",
    "verifie(liste_temps)"
   ]
  },
  {
   "cell_type": "code",
   "execution_count": 4,
   "metadata": {},
   "outputs": [
    {
     "ename": "NameError",
     "evalue": "name 'b' is not defined",
     "output_type": "error",
     "traceback": [
      "\u001b[0;31m---------------------------------------------------------------------------\u001b[0m",
      "\u001b[0;31mNameError\u001b[0m                                 Traceback (most recent call last)",
      "\u001b[0;32m<ipython-input-4-367e618768f7>\u001b[0m in \u001b[0;36m<module>\u001b[0;34m\u001b[0m\n\u001b[1;32m      8\u001b[0m \u001b[0mc\u001b[0m \u001b[0;34m=\u001b[0m \u001b[0;36m1\u001b[0m\u001b[0;34m\u001b[0m\u001b[0;34m\u001b[0m\u001b[0m\n\u001b[1;32m      9\u001b[0m \u001b[0;31m#b = calculs(3,4)\u001b[0m\u001b[0;34m\u001b[0m\u001b[0;34m\u001b[0m\u001b[0;34m\u001b[0m\u001b[0m\n\u001b[0;32m---> 10\u001b[0;31m \u001b[0mprint\u001b[0m\u001b[0;34m(\u001b[0m\u001b[0ma\u001b[0m\u001b[0;34m,\u001b[0m\u001b[0mb\u001b[0m\u001b[0;34m,\u001b[0m\u001b[0mc\u001b[0m\u001b[0;34m)\u001b[0m\u001b[0;34m\u001b[0m\u001b[0;34m\u001b[0m\u001b[0m\n\u001b[0m",
      "\u001b[0;31mNameError\u001b[0m: name 'b' is not defined"
     ]
    }
   ],
   "source": [
    "a = 2\n",
    "\n",
    "def calculs(b,c):\n",
    "    c = a * 2\n",
    "    a = 1\n",
    "    return a + b;\n",
    "\n",
    "c = 1\n",
    "b = calculs(3,4)\n",
    "print(a,b,c)"
   ]
  },
  {
   "cell_type": "code",
   "execution_count": null,
   "metadata": {},
   "outputs": [],
   "source": []
  }
 ],
 "metadata": {
  "interpreter": {
   "hash": "20a01fe747120b368d66940936381f5f9d29e0f81cff57a8a43c1302cb7665d3"
  },
  "kernelspec": {
   "display_name": "Python 3.9.7 64-bit ('l1-python': conda)",
   "name": "python3"
  },
  "language_info": {
   "codemirror_mode": {
    "name": "ipython",
    "version": 3
   },
   "file_extension": ".py",
   "mimetype": "text/x-python",
   "name": "python",
   "nbconvert_exporter": "python",
   "pygments_lexer": "ipython3",
   "version": "3.9.7"
  }
 },
 "nbformat": 4,
 "nbformat_minor": 4
}
